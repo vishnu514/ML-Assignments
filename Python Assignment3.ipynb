{
 "cells": [
  {
   "cell_type": "raw",
   "metadata": {},
   "source": [
    "1 Write a Python Program to implement your own myreduce() function which works exactly like Python's built-in function reduce()"
   ]
  },
  {
   "cell_type": "code",
   "execution_count": 1,
   "metadata": {},
   "outputs": [
    {
     "name": "stdout",
     "output_type": "stream",
     "text": [
      "24\n",
      "10\n"
     ]
    }
   ],
   "source": [
    "def do_mul(x1, x2): \n",
    "    return x1 * x2\n",
    "\n",
    "def do_sum(x1,x2):\n",
    "    return x1+x2\n",
    "\n",
    "def my_reduce(func,seq):               #reduce function will produce a single output value\n",
    "    output = seq[0]                     #first item in seq is assigned to output\n",
    "    for i in seq[1:]:                   #iterating remaining items in seq\n",
    "        output = func(output, i)\n",
    "    return output\n",
    "\n",
    "print(my_reduce(do_mul, [1, 2, 3, 4]))   #(((1 * 2) *3) * 4) => 24\n",
    "print(my_reduce(do_sum, [1, 2, 3, 4]))   #(((1 + 2) +3) + 4) => 10"
   ]
  },
  {
   "cell_type": "raw",
   "metadata": {},
   "source": [
    ".2 Write a Python program to implement your own myfilter() function which works exactly like Python's built-in function filter()"
   ]
  },
  {
   "cell_type": "code",
   "execution_count": 2,
   "metadata": {},
   "outputs": [
    {
     "name": "stdout",
     "output_type": "stream",
     "text": [
      "Even numbers are: [0, 10, 20]\n"
     ]
    }
   ],
   "source": [
    "def iseven(x):\n",
    "    if (x%2==0):\n",
    "        return True\n",
    "    else:\n",
    "        return False\n",
    "\n",
    "def myfilter(func,seq):\n",
    "    output=[]\n",
    "    for i in seq:           #iterate over sequence of items in seq and apply filter function\n",
    "        if func(i):\n",
    "            output.append(i)\n",
    "    return output\n",
    "\n",
    "print('Even numbers are:',myfilter(iseven,[0,5,10,15,20,25]))"
   ]
  },
  {
   "cell_type": "raw",
   "metadata": {},
   "source": [
    "3 Implement List comprehensions to produce the following lists. Write List comprehensions to produce the following Lists\n",
    "\n",
    "['x', 'xx', 'xxx', 'xxxx', 'y', 'yy', 'yyy', 'yyyy', 'z', 'zz', 'zzz', 'zzzz']\n",
    "\n",
    "['x', 'y', 'z', 'xx', 'yy', 'zz', 'xx', 'yy', 'zz', 'xxxx', 'yyyy', 'zzzz']\n",
    "\n",
    "[[2], [3], [4], [3], [4], [5], [4], [5], [6]]\n",
    "\n",
    "[[2, 3, 4, 5], [3, 4, 5, 6],[4, 5, 6, 7], [5, 6, 7, 8]]\n",
    "\n",
    "[(1, 1), (2, 1), (3, 1), (1, 2), (2, 2), (3, 2), (1, 3), (2, 3), (3, 3)]"
   ]
  },
  {
   "cell_type": "code",
   "execution_count": 6,
   "metadata": {},
   "outputs": [
    {
     "name": "stdout",
     "output_type": "stream",
     "text": [
      "['x', 'xx', 'xxx', 'xxxx', 'y', 'yy', 'yyy', 'yyyy', 'z', 'zz', 'zzz', 'zzzz']\n",
      "['x', 'y', 'z', 'xx', 'yy', 'zz', 'xxx', 'yyy', 'zzz', 'xxxx', 'yyyy', 'zzzz']\n",
      "[[2], [3], [4], [3], [4], [5], [4], [5], [6]]\n",
      "[[2, 3, 4, 5], [3, 4, 5, 6], [4, 5, 6, 7], [5, 6, 7, 8]]\n",
      "[(1, 1), (1, 2), (1, 3), (2, 1), (2, 2), (2, 3), (3, 1), (3, 2), (3, 3)]\n"
     ]
    }
   ],
   "source": [
    "\n",
    "#comprehension using technique [i <Upper for condition> <lower for condition>]\n",
    "list1=['x','y','z']\n",
    "L2=[x*num for x in list1 for num in range(1,5)]\n",
    "print(L2)\n",
    "\n",
    "list2=['x','y','z']\n",
    "L3=[x*num for num in range(1,5) for x in list2]\n",
    "print(L3)\n",
    "\n",
    "list3=[2,3,4]\n",
    "L4=[[x+num] for x in list3 for num in range(0,3)]\n",
    "print(L4)\n",
    "\n",
    "list4=[2,3,4,5]\n",
    "L5=[[x+num for x in list4] for num in range(0,4)]\n",
    "print(L5)\n",
    "\n",
    "list5=[1,2,3]\n",
    "L6=[(x,y) for x in list5 for y in list5]\n",
    "print(L6)"
   ]
  },
  {
   "cell_type": "code",
   "execution_count": null,
   "metadata": {},
   "outputs": [],
   "source": []
  }
 ],
 "metadata": {
  "kernelspec": {
   "display_name": "Python 3",
   "language": "python",
   "name": "python3"
  },
  "language_info": {
   "codemirror_mode": {
    "name": "ipython",
    "version": 3
   },
   "file_extension": ".py",
   "mimetype": "text/x-python",
   "name": "python",
   "nbconvert_exporter": "python",
   "pygments_lexer": "ipython3",
   "version": "3.7.3"
  }
 },
 "nbformat": 4,
 "nbformat_minor": 4
}
