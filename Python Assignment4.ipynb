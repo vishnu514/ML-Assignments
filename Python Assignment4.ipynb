{
 "cells": [
  {
   "cell_type": "raw",
   "metadata": {},
   "source": [
    "1.Write a Python Program(with class concepts) to find the area of the triangle using the below formula.\n",
    "\n",
    "area = (s(s-a)(s-b)(s-c)) * 0.5\n",
    "\n",
    "Function to take the length of the sides of triangle from user should be defined in the parent class and function to calculate the area should be defined in subclass"
   ]
  },
  {
   "cell_type": "code",
   "execution_count": 2,
   "metadata": {},
   "outputs": [
    {
     "name": "stdout",
     "output_type": "stream",
     "text": [
      "area =  24.0\n"
     ]
    }
   ],
   "source": [
    "import math\n",
    "\n",
    "class Triangle:\n",
    "\n",
    "       def __init__(self, a, b, c):\n",
    "               self.a=a\n",
    "               self.b=b\n",
    "               self.c=c\n",
    "       def area(self):\n",
    "               s=(self.a+self.b+self.c)/2\n",
    "               area=math.sqrt(s*(s-self.a)*(s-self.b)*(s-self.c))\n",
    "               return area\n",
    "if __name__=='__main__':\n",
    "       t1=Triangle(4,13,15)\n",
    "       print ('area = ',t1.area())"
   ]
  },
  {
   "cell_type": "code",
   "execution_count": 11,
   "metadata": {},
   "outputs": [
    {
     "name": "stdout",
     "output_type": "stream",
     "text": [
      "a=4\n",
      "b=13\n",
      "c=15\n",
      "area : 24.0\n"
     ]
    }
   ],
   "source": [
    "class poly:\n",
    "    def __init__(self,a,b,c):\n",
    "        self.a = float(a)\n",
    "        self.b = float(b)\n",
    "        self.c = float(c)\n",
    "a= int(input(\"a=\"))\n",
    "b= int(input(\"b=\"))\n",
    "c= int(input(\"c=\"))\n",
    "\n",
    "class triangle(poly):\n",
    "    def __init__(self,a,b,c):\n",
    "        super().__init__(a,b,c)\n",
    "\n",
    "    def get_area(self):\n",
    "        s = (a + b + c) / 2\n",
    "        return (s*(s-a)*(s-b)*(s-c)) ** 0.5        \n",
    "\n",
    "t = triangle(a,b,c)\n",
    "print(\"area : {}\".format(t.get_area()))"
   ]
  },
  {
   "cell_type": "raw",
   "metadata": {},
   "source": [
    "2.Write a function filter_long_words() that takes a list of words and an integer n and returns the list of words that are longer than n."
   ]
  },
  {
   "cell_type": "code",
   "execution_count": 4,
   "metadata": {},
   "outputs": [
    {
     "name": "stdout",
     "output_type": "stream",
     "text": [
      "['list', 'words', 'integer', 'returns', 'list', 'words', 'that', 'longer', 'than']\n"
     ]
    }
   ],
   "source": [
    "def filter_long_words(n,str):\n",
    "    l1=[]\n",
    "    l2=str.split(' ')\n",
    "    for x in l2:\n",
    "        if len(x) > n:\n",
    "            l1.append(x)\n",
    "    return l1\n",
    "print(filter_long_words(3,\"list of words and an integer n and returns the list of words that are longer than n\"))"
   ]
  },
  {
   "cell_type": "raw",
   "metadata": {},
   "source": [
    "3. Write a Python program using function concept that maps list of words into a list of integers representing the lengths of the corresponding words.\n",
    "\n",
    "Hint: If a list [ ab,cde,erty] is passed on to the python function output should come as [2,3,4]\n",
    "Here 2,3 and 4 are the lengths of the words in the list."
   ]
  },
  {
   "cell_type": "code",
   "execution_count": 7,
   "metadata": {},
   "outputs": [
    {
     "name": "stdout",
     "output_type": "stream",
     "text": [
      "enter list of words['ab','cde','erty']\n",
      "List of words:['ab', 'cde', 'erty']\n",
      "List of wordlen:[2, 3, 4]\n"
     ]
    }
   ],
   "source": [
    "def func(list_of_words):\n",
    "    list_of_ints=[]\n",
    "    for x in range(len(list_of_words)):\n",
    "        list_of_ints.append(len(list_of_words[x]))\n",
    "    \n",
    "    print('List of words:'+str(list_of_words))\n",
    "    print('List of wordlen:'+str(list_of_ints))\n",
    "list1=eval(input('enter list of words'))\n",
    "func(list1)"
   ]
  },
  {
   "cell_type": "raw",
   "metadata": {},
   "source": [
    "4.Write a Python function which takes a character (i.e. a string of length 1) and returns True if it is a vowel, False otherwise."
   ]
  },
  {
   "cell_type": "code",
   "execution_count": 6,
   "metadata": {},
   "outputs": [
    {
     "name": "stdout",
     "output_type": "stream",
     "text": [
      "False\n",
      "True\n"
     ]
    }
   ],
   "source": [
    "def check_vowel(char):\n",
    "    vowels='aeiou'\n",
    "    return char in vowels\n",
    "print(check_vowel('c'))\n",
    "print(check_vowel('e'))"
   ]
  },
  {
   "cell_type": "code",
   "execution_count": null,
   "metadata": {},
   "outputs": [],
   "source": []
  }
 ],
 "metadata": {
  "kernelspec": {
   "display_name": "Python 3",
   "language": "python",
   "name": "python3"
  },
  "language_info": {
   "codemirror_mode": {
    "name": "ipython",
    "version": 3
   },
   "file_extension": ".py",
   "mimetype": "text/x-python",
   "name": "python",
   "nbconvert_exporter": "python",
   "pygments_lexer": "ipython3",
   "version": "3.7.3"
  }
 },
 "nbformat": 4,
 "nbformat_minor": 4
}
